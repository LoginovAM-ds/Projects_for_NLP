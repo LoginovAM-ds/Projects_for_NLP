{
 "cells": [
  {
   "cell_type": "code",
   "execution_count": 1,
   "metadata": {},
   "outputs": [],
   "source": [
    "from sklearn.metrics.pairwise import sigmoid_kernel\n",
    "from sklearn.feature_extraction.text import TfidfVectorizer\n",
    "import pandas as pd"
   ]
  },
  {
   "cell_type": "code",
   "execution_count": 2,
   "metadata": {},
   "outputs": [],
   "source": [
    "data_movies=pd.read_csv('tmdb_5000_movies.csv')\n",
    "data_credit=pd.read_csv('tmdb_5000_credits.csv')\n",
    "data_credit=data_credit.rename(index=str,columns={'movie_id':'id'})\n",
    "data=data_movies.merge(data_credit,on='id')"
   ]
  },
  {
   "cell_type": "code",
   "execution_count": 3,
   "metadata": {},
   "outputs": [],
   "source": [
    "data=data.drop(columns=['homepage','title_x','title_y','status','production_countries'],axis=1)"
   ]
  },
  {
   "cell_type": "code",
   "execution_count": 4,
   "metadata": {},
   "outputs": [],
   "source": [
    "tfv = TfidfVectorizer(min_df=3,  max_features=None,\n",
    "                      strip_accents='unicode', analyzer='word', token_pattern=r'\\w{1,}',\n",
    "                      ngram_range=(1, 3),\n",
    "                      stop_words='english')\n",
    "data['overview'].fillna('', inplace=True)\n",
    "\n",
    "tfv_m = tfv.fit_transform(data['overview'])\n",
    "sigm = sigmoid_kernel(tfv_m, tfv_m)\n",
    "indices = pd.Series(data.index,\n",
    "                    index=data['original_title']).drop_duplicates()"
   ]
  },
  {
   "cell_type": "code",
   "execution_count": 5,
   "metadata": {},
   "outputs": [],
   "source": [
    "def give_recomendations(title, sig=sigm):\n",
    "    idx = indices[title]\n",
    "    sig_scores = list(enumerate(sig[idx]))\n",
    "    sig_scores = sorted(sig_scores, key=lambda x: x[1], reverse=True)\n",
    "    sig_scores = sig_scores[1:11]\n",
    "    movie_indices = [i[0] for i in sig_scores]\n",
    "    return data['original_title'].iloc[movie_indices]\n"
   ]
  },
  {
   "cell_type": "code",
   "execution_count": 6,
   "metadata": {},
   "outputs": [
    {
     "name": "stdout",
     "output_type": "stream",
     "text": [
      "1341                Obitaemyy Ostrov\n",
      "634                       The Matrix\n",
      "3604                       Apollo 18\n",
      "2130                    The American\n",
      "775                        Supernova\n",
      "529                 Tears of the Sun\n",
      "151                          Beowulf\n",
      "311     The Adventures of Pluto Nash\n",
      "847                         Semi-Pro\n",
      "942                 The Book of Life\n",
      "Name: original_title, dtype: object\n"
     ]
    }
   ],
   "source": [
    "# so here I have a problem to work with text, if I don't put accurate key I won't get anything\n",
    "print(give_recomendations('Avatar'))"
   ]
  }
 ],
 "metadata": {
  "kernelspec": {
   "display_name": "Python 3",
   "language": "python",
   "name": "python3"
  },
  "language_info": {
   "codemirror_mode": {
    "name": "ipython",
    "version": 3
   },
   "file_extension": ".py",
   "mimetype": "text/x-python",
   "name": "python",
   "nbconvert_exporter": "python",
   "pygments_lexer": "ipython3",
   "version": "3.10.11"
  },
  "orig_nbformat": 4
 },
 "nbformat": 4,
 "nbformat_minor": 2
}
