{
 "cells": [
  {
   "cell_type": "code",
   "execution_count": 2,
   "metadata": {},
   "outputs": [],
   "source": [
    "import warnings\n",
    "import pandas as pd\n",
    "import re\n",
    "import nltk\n",
    "from nltk.corpus import stopwords\n",
    "from sklearn.feature_extraction.text import CountVectorizer\n",
    "from sklearn.model_selection import train_test_split\n",
    "from sklearn.metrics import accuracy_score\n",
    "import string\n",
    "stemmer = nltk.SnowballStemmer(\"english\")\n",
    "warnings.filterwarnings('ignore')\n",
    "data=pd.read_csv('Data.csv')\n"
   ]
  },
  {
   "cell_type": "code",
   "execution_count": 4,
   "metadata": {},
   "outputs": [],
   "source": [
    "# Cleaning\n",
    "stopword = set(stopwords.words('english'))\n",
    "def clean(text):\n",
    "    text = str(text).lower()\n",
    "    text = re.sub('\\[.*?\\]', '', text)\n",
    "    text = re.sub('https?://\\S+|www\\.\\S+', '', text)\n",
    "    text = re.sub('<.*?>+', '', text)\n",
    "    text = re.sub('[%s]' % re.escape(string.punctuation), '', text)\n",
    "    text = re.sub('\\n', '', text)\n",
    "    text = re.sub('\\w*\\d\\w*', '', text)\n",
    "    text = [word for word in text.split(' ') if word not in stopword]\n",
    "    text = \" \".join(text)\n",
    "    text = [stemmer.stem(word) for word in text.split(' ')]\n",
    "    text = \" \".join(text)\n",
    "    return text\n",
    "\n",
    "\n",
    "data[\"review\"] = data[\"review\"].apply(clean)\n"
   ]
  },
  {
   "cell_type": "code",
   "execution_count": 5,
   "metadata": {},
   "outputs": [],
   "source": [
    "# Preparation for model\n",
    "from sklearn.preprocessing import LabelEncoder\n",
    "label=LabelEncoder()\n",
    "y=label.fit_transform(data['sentiment'])\n",
    "cv = CountVectorizer(max_features=2500)\n",
    "X = cv.fit_transform(data['review']).toarray()\n"
   ]
  },
  {
   "cell_type": "code",
   "execution_count": 6,
   "metadata": {},
   "outputs": [],
   "source": [
    "from sklearn.linear_model import LogisticRegression\n",
    "from sklearn.naive_bayes import BernoulliNB\n",
    "from sklearn.model_selection import GridSearchCV\n",
    "\n",
    "log=LogisticRegression()\n",
    "ber=BernoulliNB()\n",
    "\n",
    "X_train, X_test, y_train, y_test = train_test_split(\n",
    "    X, y, test_size=0.2, random_state=0)\n",
    "\n",
    "# A comparison of the two models showed that the LogisticRegression(0.8714) is better than the BernoulliNB(0.8412),\n",
    "# so I decided to set up hyperparameters for LogisticRegression (0.8757) \n",
    "# but it's too much for fitting and tunning and difference is small\n",
    "'''param_grid = {'penalty': ['l2'],  'C': [0.01 + i * 0.01 for i in range(10)]}\n",
    "grid_search = GridSearchCV(\n",
    "    LogisticRegression(), param_grid, cv=5, scoring='accuracy')\n",
    "\n",
    "grid_search.fit(X_train, y_train)'''\n",
    "\n",
    "log.fit(X_train, y_train)\n",
    "ber.fit(X_train, y_train)\n",
    "\n",
    "\n",
    "y_log = log.predict(X_test)\n",
    "y_ber=ber.predict(X_test)\n",
    "\n",
    "log_accur=accuracy_score(y_test,y_log)\n",
    "ber_accur=accuracy_score(y_test,y_ber)"
   ]
  },
  {
   "cell_type": "code",
   "execution_count": 7,
   "metadata": {},
   "outputs": [
    {
     "data": {
      "text/plain": [
       "(0.8714, 0.8412)"
      ]
     },
     "execution_count": 7,
     "metadata": {},
     "output_type": "execute_result"
    }
   ],
   "source": [
    "# My results\n",
    "log_accur,ber_accur"
   ]
  },
  {
   "cell_type": "code",
   "execution_count": 8,
   "metadata": {},
   "outputs": [
    {
     "name": "stdout",
     "output_type": "stream",
     "text": [
      "Your text evaluation is negative\n"
     ]
    }
   ],
   "source": [
    "def check(text):\n",
    "    for_model = clean(text)\n",
    "    for_model = cv.transform([for_model])\n",
    "    y_pred = log.predict(for_model)\n",
    "    y_pred = label.inverse_transform(y_pred)\n",
    "    return y_pred[0]\n",
    "\n",
    "text_to_predict = input('Enter your review or sentence: ')\n",
    "print(f'Your text evaluation is {check(text_to_predict)}')\n"
   ]
  }
 ],
 "metadata": {
  "kernelspec": {
   "display_name": "Python 3",
   "language": "python",
   "name": "python3"
  },
  "language_info": {
   "codemirror_mode": {
    "name": "ipython",
    "version": 3
   },
   "file_extension": ".py",
   "mimetype": "text/x-python",
   "name": "python",
   "nbconvert_exporter": "python",
   "pygments_lexer": "ipython3",
   "version": "3.10.11"
  },
  "orig_nbformat": 4
 },
 "nbformat": 4,
 "nbformat_minor": 2
}
